{
 "cells": [
  {
   "cell_type": "markdown",
   "id": "eb63650f",
   "metadata": {},
   "source": [
    "# Data preparation\n",
    "### Load packages"
   ]
  },
  {
   "cell_type": "code",
   "execution_count": null,
   "id": "edd0ae99",
   "metadata": {},
   "outputs": [],
   "source": [
    "import pandas as pd\n",
    "import calendar\n",
    "import os\n",
    "\n",
    "from datetime import datetime\n",
    "from ta import add_all_ta_features"
   ]
  },
  {
   "cell_type": "markdown",
   "id": "d1fa193b",
   "metadata": {},
   "source": [
    "### Load data"
   ]
  },
  {
   "cell_type": "code",
   "execution_count": null,
   "id": "9ce6145e",
   "metadata": {},
   "outputs": [],
   "source": [
    "Directory = 'C:/.../TFT_for_Stock_Movement_Prediction/data'\n",
    "\n",
    "# DAX constituents\n",
    "constituents_data = pd.read_csv(os.path.join(Directory, 'constituents_data.csv'), index_col = [0], header = [0, 1])\n",
    "\n",
    "# DAX constituents for technical indicators\n",
    "constituents_data_ta = pd.read_csv(os.path.join(Directory, 'constituents_data_ta.csv'), index_col = [0], header = [0, 1])"
   ]
  },
  {
   "cell_type": "markdown",
   "id": "24e75481",
   "metadata": {},
   "source": [
    "### Preparations\n",
    "#### Create matrix index lists"
   ]
  },
  {
   "cell_type": "code",
   "execution_count": null,
   "id": "5c5b435e",
   "metadata": {},
   "outputs": [],
   "source": [
    "def create_index(dataset):\n",
    "    date_index, stock_index = [], []\n",
    "    date_index = dataset.index\n",
    "    stock_index = dataset.columns.levels[1]\n",
    "    return date_index, stock_index\n",
    "\n",
    "date_index, stock_index = create_index(constituents_data)"
   ]
  },
  {
   "cell_type": "markdown",
   "id": "b4e57ba7",
   "metadata": {},
   "source": [
    "#### Split dataset into single features"
   ]
  },
  {
   "cell_type": "code",
   "execution_count": null,
   "id": "00047706",
   "metadata": {},
   "outputs": [],
   "source": [
    "def split_dataset(dataset):\n",
    "    Open, High, Low, Close, Volume = [], [], [], [], []\n",
    "    Open, High, Low, Close, Volume = dataset['Open'], dataset['High'], dataset['Low'], dataset['Close'], dataset['Volume']\n",
    "    return Open, High, Low, Close, Volume\n",
    "\n",
    "Open, High, Low, Close, Volume = split_dataset(constituents_data)"
   ]
  },
  {
   "cell_type": "markdown",
   "id": "18547960",
   "metadata": {},
   "source": [
    "#### Create portfolio table"
   ]
  },
  {
   "cell_type": "code",
   "execution_count": null,
   "id": "59467fca",
   "metadata": {},
   "outputs": [],
   "source": [
    "# Portfolio data and ICB \n",
    "portfolio_table = pd.DataFrame(index = range(len(stock_index)))\n",
    "portfolio_table['Symbol'] = stock_index\n",
    "portfolio_table['Industry'] = ['Consumer Discretionary', 'Industrials', 'Financials', 'Basic Materials', 'Health Care',\n",
    "                               'Consumer Staples', 'Consumer Discretionary', 'Basic Materials', 'Financials', \n",
    "                               'Consumer Discretionary', 'Financials', 'Financials', 'Industrials', 'Telecommunications',\n",
    "                               'Utilities', 'Health Care', 'Basic Materials', 'Consumer Discretionary', 'Financials',\n",
    "                               'Technology', 'Consumer Discretionary', 'Health Care', 'Industrials', 'Financials',\n",
    "                               'Consumer Discretionary', 'Health Care', 'Industrials', 'Utilities', 'Technology',\n",
    "                               'Industrials', 'Health Care', 'Basic Materials', 'Consumer Discretionary']\n",
    "portfolio_table['Supersector'] = ['Consumer Products and Services', 'Industrial Goods and Services', 'Insurance', \n",
    "                                  'Chemicals', 'Health Care', 'Personal Care, Drug and Grocery Stores', \n",
    "                                  'Automobiles and Parts', 'Chemicals', 'Banks', 'Automobiles and Parts', \n",
    "                                  'Financial Services', 'Banks', 'Industrial Goods and Services', 'Telecommunications',\n",
    "                                  'Utilities', 'Health Care', 'Basic Resources', 'Consumer Products and Services',\n",
    "                                  'Insurance', 'Technology', 'Automobiles and Parts', 'Health Care', \n",
    "                                  'Industrial Goods and Services', 'Insurance', 'Automobiles and Parts', 'Health Care',\n",
    "                                  'Industrial Goods and Services', 'Utilities', 'Technology', \n",
    "                                  'Industrial Goods and Services', 'Health Care', 'Chemicals', 'Automobiles and Parts']"
   ]
  },
  {
   "cell_type": "markdown",
   "id": "d70e8648",
   "metadata": {},
   "source": [
    "### Feature engineering \n",
    "#### Target and return feature"
   ]
  },
  {
   "cell_type": "code",
   "execution_count": null,
   "id": "ae6e5a2a",
   "metadata": {},
   "outputs": [],
   "source": [
    "# Close to Close Return\n",
    "CCR = pd.DataFrame(index = range(len(date_index)), columns = stock_index)\n",
    "for i in range(len(date_index)):\n",
    "    for j in range(len(stock_index)):\n",
    "        CCR.iloc[i, j] = ((Close.iloc[i, j] / Close.iloc[i - 1, j]) - 1)\n",
    "CCR = CCR.iloc[1 : , : ].reset_index(drop = True)"
   ]
  },
  {
   "cell_type": "markdown",
   "id": "ef6be8ce",
   "metadata": {},
   "source": [
    "#### Time features"
   ]
  },
  {
   "cell_type": "code",
   "execution_count": null,
   "id": "23c621d7",
   "metadata": {},
   "outputs": [],
   "source": [
    "# Date\n",
    "Date = pd.DataFrame(date_index)\n",
    "\n",
    "# Weekday\n",
    "Weekday = pd.DataFrame(index = range(len(date_index)), columns = ['Weekday'])\n",
    "for i in range(len(date_index)):\n",
    "    Weekday['Weekday'][i] = datetime.strptime(Date['Date'][i], '%Y-%m-%d').weekday()\n",
    "Weekday['Weekday'] = Weekday['Weekday'].astype('category')\n",
    "Weekday = Weekday.iloc[1 : , : ].reset_index(drop = True)\n",
    "\n",
    "# Week\n",
    "Week = pd.DataFrame(index = range(len(date_index)), columns = ['Week'])\n",
    "for i in range(len(date_index)):\n",
    "    Week['Week'][i] = datetime.strptime(Date['Date'][i], '%Y-%m-%d').isocalendar().week\n",
    "Week['Week'] = Week['Week'].astype('category')\n",
    "Week['Week'] = Week['Week'].replace(53, 52)\n",
    "Week = Week.iloc[1 : , : ].reset_index(drop = True)\n",
    "\n",
    "# Month\n",
    "Month = pd.DataFrame(index = range(len(date_index)), columns = ['Month'])\n",
    "for i in range(len(date_index)):\n",
    "    Month['Month'][i] = datetime.strptime(Date['Date'][i], '%Y-%m-%d').month\n",
    "Month['Month'] = Month['Month'].astype('category')\n",
    "Month = Month.iloc[1 : , : ].reset_index(drop = True)\n",
    "\n",
    "# Day of month\n",
    "Monthday = pd.DataFrame(index = range(len(date_index)), columns = ['Monthday'])\n",
    "Monthday['Monthday'] = pd.to_datetime(Date.Date, format = '%Y-%m-%d').dt.day.astype('category')\n",
    "Monthday = Monthday.iloc[1 : , : ].reset_index(drop = True)\n",
    "\n",
    "# Select features\n",
    "time_features = ['Weekday', 'Week', 'Month', 'Monthday']"
   ]
  },
  {
   "cell_type": "markdown",
   "id": "8d1cddb6",
   "metadata": {},
   "source": [
    "#### Basic historical features"
   ]
  },
  {
   "cell_type": "code",
   "execution_count": null,
   "id": "046fb708",
   "metadata": {},
   "outputs": [],
   "source": [
    "## Interday categorical changes\n",
    "def create_interday(price):\n",
    "    dataset = pd.DataFrame(index = range(len(date_index)), columns = stock_index)\n",
    "    for i in range(len(date_index)):\n",
    "        for j in range(len(stock_index)):\n",
    "            if (price.iloc[i, j] >= price.iloc[i - 1, j]):\n",
    "                dataset.iloc[i, j] = 1\n",
    "            else:\n",
    "                dataset.iloc[i, j] = 0\n",
    "    dataset = dataset.iloc[1 : , : ].reset_index(drop = True)\n",
    "    return dataset\n",
    "\n",
    "COO = create_interday(Open) # Open to Open\n",
    "CHH = create_interday(High) # High to High\n",
    "CLL = create_interday(Low) # Low to Low\n",
    "CCC = create_interday(Close) # Close to Close\n",
    "\n",
    "## Intraday continuous changes\n",
    "def create_intraday(price1, price2):\n",
    "    dataset = pd.DataFrame(index = range(len(date_index)), columns = stock_index)\n",
    "    for i in range(len(date_index)):\n",
    "        for j in range(len(stock_index)):\n",
    "            dataset.iloc[i, j] = (price1.iloc[i, j] - price2.iloc[i, j])\n",
    "    dataset = dataset.iloc[1 : , : ].reset_index(drop = True)\n",
    "    return dataset\n",
    "\n",
    "LHR = create_intraday(High, Low) # Low to High range\n",
    "OCR = create_intraday(Close, Open) # Open to Close range\n",
    "\n",
    "# High range\n",
    "HR = pd.DataFrame(index = range(len(date_index)), columns = stock_index)\n",
    "for i in range(len(date_index)):\n",
    "    for j in range(len(stock_index)):\n",
    "        if (Close.iloc[i, j] >= Open.iloc[i, j]):\n",
    "            HR.iloc[i, j] = (High.iloc[i, j] - Close.iloc[i, j])\n",
    "        else:\n",
    "            HR.iloc[i, j] = (High.iloc[i, j] - Open.iloc[i, j])\n",
    "HR = HR.iloc[1 : , : ].reset_index(drop = True)\n",
    "\n",
    "# Low range\n",
    "LR = pd.DataFrame(index = range(len(date_index)), columns = stock_index)\n",
    "for i in range(len(date_index)):\n",
    "    for j in range(len(stock_index)):\n",
    "        if (Close.iloc[i, j] >= Open.iloc[i, j]):\n",
    "            LR.iloc[i, j] = (Open.iloc[i, j] - Low.iloc[i, j])\n",
    "        else:\n",
    "            LR.iloc[i, j] = (Close.iloc[i, j] - Low.iloc[i, j])\n",
    "LR = LR.iloc[1 : , : ].reset_index(drop = True)\n",
    "\n",
    "## Select features\n",
    "bh_categorical_features = ['COO', 'CHH', 'CLL', 'CCC']\n",
    "bh_continuous_features = ['LHR', 'OCR', 'HR', 'LR']\n",
    "bh_features = bh_categorical_features + bh_continuous_features"
   ]
  },
  {
   "cell_type": "markdown",
   "id": "ddcc088a",
   "metadata": {},
   "source": [
    "#### Technical indicatiors"
   ]
  },
  {
   "cell_type": "code",
   "execution_count": null,
   "id": "2efcf17f",
   "metadata": {
    "scrolled": true
   },
   "outputs": [],
   "source": [
    "# Extract prices\n",
    "Open, High, Low, Close, Volume = split_dataset(constituents_data_ta)\n",
    "\n",
    "# Get indicator names\n",
    "temp = pd.DataFrame()\n",
    "temp['Open'], temp['High'], temp['Low'], temp['Close'], temp['Volume'] = Open[stock_index[0]], High[stock_index[0]], Low[stock_index[0]], Close[stock_index[0]], Volume[stock_index[0]]\n",
    "temp_df = add_all_ta_features(temp, open = 'Open', high = 'High', low = 'Low', close = 'Close', volume = 'Volume', fillna = True)\n",
    "ta_names = temp_df.columns[5 : ]\n",
    "\n",
    "# Create indicatior dataframes\n",
    "for i in ta_names:\n",
    "     exec('{} = pd.DataFrame(columns = stock_index)'.format(i))\n",
    "        \n",
    "# Fill dataframes\n",
    "Open, High, Low, Close, Volume = split_dataset(constituents_data_ta)\n",
    "for i in range(len(stock_index)):\n",
    "    temp = pd.DataFrame()\n",
    "    temp['Open'], temp['High'], temp['Low'], temp['Close'], temp['Volume'] = Open[stock_index[i]], High[stock_index[i]], Low[stock_index[i]], Close[stock_index[i]], Volume[stock_index[i]]\n",
    "    temp_df = add_all_ta_features(temp, open = 'Open', high = 'High', low = 'Low', close = 'Close', volume = 'Volume', fillna = True)\n",
    "    temp_df = temp_df.iloc[43 : , : ].reset_index(drop = True)\n",
    "    for j in range(len(ta_names)):\n",
    "        locals()[ta_names[j]][stock_index[i]] = temp_df[ta_names[j]]\n",
    "        \n",
    "# Select features\n",
    "indicator_features = ['volume_adi', 'volume_obv', 'volatility_atr', 'volatility_bbh', 'volatility_bbl', 'trend_macd', 'trend_sma_fast', 'trend_ema_fast', 'trend_adx', 'momentum_rsi', 'momentum_stoch', 'momentum_roc']"
   ]
  },
  {
   "cell_type": "markdown",
   "id": "f21ce870",
   "metadata": {},
   "source": [
    "### Save data"
   ]
  },
  {
   "cell_type": "code",
   "execution_count": null,
   "id": "85fb0b05",
   "metadata": {},
   "outputs": [],
   "source": [
    "## Target and return feature\n",
    "CCR.to_csv('data/CCR.csv')\n",
    "\n",
    "## Features\n",
    "# Time features\n",
    "for i in range(len(time_features)):\n",
    "    locals()[time_features[i]].to_csv(f'data/{time_features[i]}.csv') \n",
    "pd.DataFrame(time_features).to_csv(f'data/time_features.csv')\n",
    "\n",
    "# Basic historical features\n",
    "for i in range(len(bh_features)):\n",
    "    locals()[bh_features[i]].to_csv(f'data/{bh_features[i]}.csv')\n",
    "pd.DataFrame(bh_categorical_features).to_csv(f'data/bh_categorical_features.csv')\n",
    "pd.DataFrame(bh_continuous_features).to_csv(f'data/bh_continuous_features.csv')\n",
    "pd.DataFrame(bh_features).to_csv(f'data/bh_features.csv')\n",
    "\n",
    "# Technical indicators\n",
    "for i in range(len(indicator_features)):\n",
    "    locals()[indicator_features[i]].to_csv(f'data/{indicator_features[i]}.csv')\n",
    "pd.DataFrame(indicator_features).to_csv(f'data/indicator_features.csv')\n",
    "\n",
    "## Portfolio table\n",
    "portfolio_table.to_csv('data/portfolio_table.csv')"
   ]
  }
 ],
 "metadata": {
  "kernelspec": {
   "display_name": "Python 3 (ipykernel)",
   "language": "python",
   "name": "python3"
  },
  "language_info": {
   "codemirror_mode": {
    "name": "ipython",
    "version": 3
   },
   "file_extension": ".py",
   "mimetype": "text/x-python",
   "name": "python",
   "nbconvert_exporter": "python",
   "pygments_lexer": "ipython3",
   "version": "3.10.10"
  }
 },
 "nbformat": 4,
 "nbformat_minor": 5
}
