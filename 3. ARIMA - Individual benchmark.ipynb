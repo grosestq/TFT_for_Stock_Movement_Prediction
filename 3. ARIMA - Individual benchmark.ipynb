{
 "cells": [
  {
   "cell_type": "markdown",
   "id": "ae8d2fb9",
   "metadata": {},
   "source": [
    "# ARIMA - Individual benchmark\n",
    "### Load packages"
   ]
  },
  {
   "cell_type": "code",
   "execution_count": null,
   "id": "f4787444",
   "metadata": {},
   "outputs": [],
   "source": [
    "import time as time\n",
    "import pandas as pd\n",
    "import numpy as np\n",
    "import warnings\n",
    "import os\n",
    "\n",
    "from statsmodels.tools.sm_exceptions import ConvergenceWarning\n",
    "from statsmodels.tsa.arima.model import ARIMA\n",
    "from pmdarima import auto_arima"
   ]
  },
  {
   "cell_type": "markdown",
   "id": "51d439ff",
   "metadata": {},
   "source": [
    "### Load data"
   ]
  },
  {
   "cell_type": "code",
   "execution_count": null,
   "id": "49308cf7",
   "metadata": {},
   "outputs": [],
   "source": [
    "Directory = 'C:/.../TFT_for_Stock_Movement_Prediction/data'\n",
    "\n",
    "# Target and return feature\n",
    "CCR = pd.read_csv(os.path.join(Directory, 'CCR.csv'), index_col = [0])\n",
    "\n",
    "## Features\n",
    "# Time features - Categorical\n",
    "time_features = pd.read_csv(os.path.join(Directory, 'time_features.csv'), index_col = [0])['0'].tolist()\n",
    "for i in range(len(time_features)):\n",
    "    locals()[time_features[i]] = pd.read_csv(os.path.join(Directory, time_features[i] + '.csv'), index_col = [0])"
   ]
  },
  {
   "cell_type": "markdown",
   "id": "95a4d154",
   "metadata": {},
   "source": [
    "### Model preparation\n",
    "#### Define variables"
   ]
  },
  {
   "cell_type": "code",
   "execution_count": null,
   "id": "8fdc9257",
   "metadata": {},
   "outputs": [],
   "source": [
    "# Study periods length\n",
    "period_b = 0, 250, 500, 750, 1000, 1250, 1500, 1750, 2000, 2250\n",
    "period_e = 1000, 1250, 1500, 1750, 2000, 2250, 2500, 2750, 3000, 3250\n",
    "\n",
    "# Split period into training, validation and test set\n",
    "training_size = 750\n",
    "test_size = 250\n",
    "\n",
    "# Target\n",
    "Target_feature = CCR\n",
    "\n",
    "# Exogenous variables\n",
    "Dates = pd.concat([Weekday, Week, Month, Monthday], axis = 1)\n",
    "\n",
    "# Ignore convergence warning\n",
    "warnings.simplefilter('ignore', ConvergenceWarning)\n",
    "\n",
    "# File path to save results\n",
    "File_name_results = 'results/ARIMA/Results_ARIMA.csv'"
   ]
  },
  {
   "cell_type": "markdown",
   "id": "90769950",
   "metadata": {},
   "source": [
    "### Model with exogenous variables\n",
    "#### Auto-parameter selection"
   ]
  },
  {
   "cell_type": "code",
   "execution_count": null,
   "id": "10b19b7c",
   "metadata": {},
   "outputs": [],
   "source": [
    "start = time.time()\n",
    "Results = pd.DataFrame(index = range(period_b[0], period_e[9] - training_size), columns = Target_feature.columns)\n",
    "for i in range(len(period_b)):\n",
    "    start_period = time.time()\n",
    "    Exogenous = pd.concat([Dates[period_b[i] : period_e[i]], pd.DataFrame(range(period_b[0] + 1, period_e[0] + 1), index = range(period_b[i], period_e[i]), columns = ['Time_idx'])], axis = 1).reset_index(drop = True).values.tolist()\n",
    "    for j in range(len(Target_feature.columns)):\n",
    "        start_stock = time.time()\n",
    "        training = Target_feature.iloc[period_b[i] : period_b[i] + training_size, j].to_list()\n",
    "        test = Target_feature.iloc[period_e[i] - test_size : period_e[i], j].reset_index(drop = True)\n",
    "        exogenous = Exogenous[period_b[0] : period_b[0] + training_size]\n",
    "        with np.errstate(divide='ignore'):\n",
    "            arima_model = auto_arima(training, exogenous, start_p = 0, start_q = 0, seasonal = False)\n",
    "        predictions = []\n",
    "        for k in range(test_size):\n",
    "            model = ARIMA(training, exogenous, order = arima_model.get_params().get(\"order\"))\n",
    "            model_fit = model.fit()\n",
    "            predictions.append(model_fit.forecast(exog = Exogenous[k + training_size])[0])\n",
    "            training.append(test[k])\n",
    "            exogenous.append(Exogenous[k + training_size])\n",
    "        Results.iloc[period_b[i] : period_b[i] + test_size, j] = predictions\n",
    "        print(f'Compilation time - Period {i + 1} - Stock {j + 1}: {round(time.time() - start_stock)} seconds')\n",
    "    print(f'Compilation time - Period {i + 1}: {round(time.time() - start_period)} seconds')\n",
    "Results.to_csv(File_name_results)\n",
    "print(f'Compilation time: {round(time.time() - start)} seconds')"
   ]
  },
  {
   "cell_type": "markdown",
   "id": "b919e9ca",
   "metadata": {},
   "source": [
    "### Model without exogenous variables\n",
    "#### Auto-parameter selection"
   ]
  },
  {
   "cell_type": "code",
   "execution_count": null,
   "id": "b91b0b0c",
   "metadata": {
    "scrolled": true
   },
   "outputs": [],
   "source": [
    "start = time.time()\n",
    "Results = pd.DataFrame(index = range(period_b[0], period_e[9] - training_size), columns = Target_feature.columns)\n",
    "for i in range(len(period_b)):\n",
    "    start_period = time.time()\n",
    "    for j in range(len(Target_feature.columns)):\n",
    "        start_stock = time.time()\n",
    "        training = Target_feature.iloc[period_b[i] : period_b[i] + training_size, j].to_list()\n",
    "        test = Target_feature.iloc[period_e[i] - test_size : period_e[i], j].reset_index(drop = True)\n",
    "        arima_model = auto_arima(training, start_p = 0, start_q = 0, seasonal = False)\n",
    "        predictions = []\n",
    "        for k in range(test_size):\n",
    "            model = ARIMA(training, order = arima_model.get_params().get(\"order\"))\n",
    "            model_fit = model.fit()\n",
    "            predictions.append(model_fit.forecast()[0])\n",
    "            training.append(test[k])\n",
    "        Results.iloc[period_b[i] : period_b[i] + test_size, j] = predictions\n",
    "        print(f'Compilation time - Period {i + 1} - Stock {j + 1}: {round(time.time() - start_stock)} seconds')\n",
    "    print(f'Compilation time - Period {i + 1}: {round(time.time() - start_period)} seconds')\n",
    "Results.to_csv(File_name_results)\n",
    "print(f'Compilation time: {round(time.time() - start)} seconds')"
   ]
  }
 ],
 "metadata": {
  "kernelspec": {
   "display_name": "Python 3 (ipykernel)",
   "language": "python",
   "name": "python3"
  },
  "language_info": {
   "codemirror_mode": {
    "name": "ipython",
    "version": 3
   },
   "file_extension": ".py",
   "mimetype": "text/x-python",
   "name": "python",
   "nbconvert_exporter": "python",
   "pygments_lexer": "ipython3",
   "version": "3.10.10"
  }
 },
 "nbformat": 4,
 "nbformat_minor": 5
}
