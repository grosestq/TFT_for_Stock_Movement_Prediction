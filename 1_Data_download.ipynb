{
 "cells": [
  {
   "cell_type": "markdown",
   "id": "c769721d",
   "metadata": {},
   "source": [
    "# Download data\n",
    "### Load packages"
   ]
  },
  {
   "cell_type": "code",
   "execution_count": null,
   "id": "12c3e2c6",
   "metadata": {},
   "outputs": [],
   "source": [
    "import yfinance as yf\n",
    "import pandas as pd\n",
    "import re"
   ]
  },
  {
   "cell_type": "markdown",
   "id": "cf3d9f93",
   "metadata": {},
   "source": [
    "### Define timeframe"
   ]
  },
  {
   "cell_type": "code",
   "execution_count": null,
   "id": "4b3fc426",
   "metadata": {},
   "outputs": [],
   "source": [
    "start = '2010-05-28'\n",
    "end = '2023-03-21'"
   ]
  },
  {
   "cell_type": "markdown",
   "id": "234d0105",
   "metadata": {},
   "source": [
    "### Download data\n",
    "#### DAX index"
   ]
  },
  {
   "cell_type": "code",
   "execution_count": null,
   "id": "4bac8282",
   "metadata": {},
   "outputs": [],
   "source": [
    "# Download index data\n",
    "index_data_dax = yf.download('^GDAXI', start, end)"
   ]
  },
  {
   "cell_type": "markdown",
   "id": "3bf4f2d5",
   "metadata": {},
   "source": [
    "#### DAX constituents"
   ]
  },
  {
   "cell_type": "code",
   "execution_count": null,
   "id": "36e2119c",
   "metadata": {},
   "outputs": [],
   "source": [
    "# Read constituents table from wikipedia\n",
    "#wiki_dax = pd.read_html('https://en.wikipedia.org/wiki/DAX')\n",
    "#constituents_table_dax = wiki_dax[4]\n",
    "#constituents_symbols_dax = constituents_table_dax['Ticker'].to_list()\n",
    "\n",
    "# For reproducing\n",
    "constituents_symbols_dax = ['ADS.DE', 'AIR.DE', 'ALV.DE', 'BAS.DE', 'BAYN.DE', 'BEI.DE', 'BMW.DE', 'BNR.DE', 'CBK.DE', 'CON.DE', '1COV.DE', 'DTG.DE', 'DBK.DE', 'DB1.DE', 'DPW.DE', 'DTE.DE', 'EOAN.DE', 'FRE.DE', 'HNR1.DE', 'HEI.DE', 'HEN3.DE', 'IFX.DE', 'MBG.DE', 'MRK.DE', 'MTX.DE', 'MUV2.DE', 'P911.DE', 'PAH3.DE', 'QIA.DE', 'RHM.DE', 'RWE.DE', 'SAP.DE', 'SRT3.DE', 'SIE.DE', 'ENR.DE', 'SHL.DE', 'SY1.DE', 'VOW3.DE', 'VNA.DE', 'ZAL.DE']\n",
    "# Download constituents data\n",
    "constituents_data = yf.download(constituents_symbols_dax, start, end)\n",
    "\n",
    "# Remove constituents with missing data\n",
    "constituents_data = constituents_data.dropna(axis=1)\n",
    "\n",
    "# Remove \".DE\" from Symbols\n",
    "constituents_data.rename(columns = lambda x: re.sub('.DE', '', x.strip()), inplace = True)\n",
    "\n",
    "# Drop wrong dates by index data\n",
    "constituents_data = constituents_data.drop(list(sorted(set(constituents_data.index.to_list()) - set(index_data_dax.index.to_list()))), axis = 'index')"
   ]
  },
  {
   "cell_type": "markdown",
   "id": "530cd641",
   "metadata": {},
   "source": [
    "#### Enhanced timeframe for technical indicators"
   ]
  },
  {
   "cell_type": "code",
   "execution_count": null,
   "id": "d4153a2b",
   "metadata": {},
   "outputs": [],
   "source": [
    "# Set new start\n",
    "start = '2010-03-27'\n",
    "\n",
    "# Same\n",
    "constituents_data_ta = yf.download(constituents_symbols_dax, start, end)\n",
    "index_data_dax_ta = yf.download(dax, start, end)\n",
    "constituents_data_ta = constituents_data_ta.dropna(axis=1)\n",
    "constituents_data_ta.rename(columns = lambda x: re.sub('.DE', '', x.strip()), inplace = True)\n",
    "constituents_data_ta = constituents_data_ta.drop(list(sorted(set(constituents_data_ta.index.to_list()) - set(index_data_dax_ta.index.to_list()))), axis = 'index')"
   ]
  },
  {
   "cell_type": "markdown",
   "id": "1ddb0aca",
   "metadata": {},
   "source": [
    "### Save data"
   ]
  },
  {
   "cell_type": "code",
   "execution_count": null,
   "id": "67c7f665",
   "metadata": {},
   "outputs": [],
   "source": [
    "# DAX constituents\n",
    "constituents_data.to_csv('data/constituents_data.csv')\n",
    "\n",
    "# DAX constituents for technical indicators\n",
    "constituents_data_ta.to_csv('data/constituents_data_ta.csv')"
   ]
  }
 ],
 "metadata": {
  "kernelspec": {
   "display_name": "Python 3 (ipykernel)",
   "language": "python",
   "name": "python3"
  },
  "language_info": {
   "codemirror_mode": {
    "name": "ipython",
    "version": 3
   },
   "file_extension": ".py",
   "mimetype": "text/x-python",
   "name": "python",
   "nbconvert_exporter": "python",
   "pygments_lexer": "ipython3",
   "version": "3.10.10"
  }
 },
 "nbformat": 4,
 "nbformat_minor": 5
}
